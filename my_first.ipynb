{
  "nbformat": 4,
  "nbformat_minor": 0,
  "metadata": {
    "colab": {
      "provenance": [],
      "authorship_tag": "ABX9TyOsebMBde57mZKMygupxLHN",
      "include_colab_link": true
    },
    "kernelspec": {
      "name": "python3",
      "display_name": "Python 3"
    },
    "language_info": {
      "name": "python"
    }
  },
  "cells": [
    {
      "cell_type": "markdown",
      "metadata": {
        "id": "view-in-github",
        "colab_type": "text"
      },
      "source": [
        "<a href=\"https://colab.research.google.com/github/gabrieldeassiss/My_first_projet/blob/main/my_first.ipynb\" target=\"_parent\"><img src=\"https://colab.research.google.com/assets/colab-badge.svg\" alt=\"Open In Colab\"/></a>"
      ]
    },
    {
      "cell_type": "code",
      "execution_count": 17,
      "metadata": {
        "id": "j2af_lIofSrD"
      },
      "outputs": [],
      "source": [
        "!pip install -q -U google-generativeai\n"
      ]
    },
    {
      "cell_type": "code",
      "source": [
        "# Import the Python SDK\n",
        "import google.generativeai as genai\n",
        "\n",
        "\n",
        "GOOGLE_API_KEY=\"chave de api \"\n",
        "genai.configure(api_key=GOOGLE_API_KEY)"
      ],
      "metadata": {
        "id": "X1Dr5Dy4g3NR"
      },
      "execution_count": 18,
      "outputs": []
    },
    {
      "cell_type": "code",
      "source": [
        "for m in genai.list_models():\n",
        "  if 'generateContent' in m.supported_generation_methods:\n",
        "    print(m.name)"
      ],
      "metadata": {
        "colab": {
          "base_uri": "https://localhost:8080/",
          "height": 139
        },
        "id": "ZYprSZJtg8WG",
        "outputId": "e02b2d33-b294-4f5d-e312-f7c14e4ceabd"
      },
      "execution_count": 28,
      "outputs": [
        {
          "output_type": "stream",
          "name": "stdout",
          "text": [
            "models/gemini-1.0-pro\n",
            "models/gemini-1.0-pro-001\n",
            "models/gemini-1.0-pro-latest\n",
            "models/gemini-1.0-pro-vision-latest\n",
            "models/gemini-1.5-pro-latest\n",
            "models/gemini-pro\n",
            "models/gemini-pro-vision\n"
          ]
        }
      ]
    },
    {
      "cell_type": "code",
      "source": [
        "generation_config = {\n",
        "    \"candidate_count\": 1,\n",
        "    \"temperature\": 0.5}"
      ],
      "metadata": {
        "id": "XwFeVf1Phuzb"
      },
      "execution_count": 24,
      "outputs": []
    },
    {
      "cell_type": "code",
      "source": [
        "safety_settings = {\n",
        "    \"HARASSMENT\" : \"BLOCK_NONE\",\n",
        "    \"HATE\" : \"BLOCK_NONE\",\n",
        "    \"SEXUAL\" : \"BLOCK_NONE\",\n",
        "    \"DANGEROUS\" : \"BLOCK_NONE\"}"
      ],
      "metadata": {
        "id": "0uaxmkDahyKD"
      },
      "execution_count": 33,
      "outputs": []
    },
    {
      "cell_type": "code",
      "source": [
        "model = genai.GenerativeModel(model_name=\"gemini-1.0-pro\",\n",
        "                           generation_config = generation_config ,\n",
        "                            safety_settings = safety_settings )"
      ],
      "metadata": {
        "id": "Cwq7vjPxh1ZX"
      },
      "execution_count": 34,
      "outputs": []
    },
    {
      "cell_type": "code",
      "source": [
        "response = model.generate_content(\"Vamos aprender sobre IA, quero sugestões.\")\n",
        "print(response.text)"
      ],
      "metadata": {
        "colab": {
          "base_uri": "https://localhost:8080/",
          "height": 642
        },
        "id": "8wFxT6Aqh6iu",
        "outputId": "80d0c945-25b8-4c4a-c42a-7e25831b6c71"
      },
      "execution_count": 35,
      "outputs": [
        {
          "output_type": "stream",
          "name": "stdout",
          "text": [
            "**Recursos Online:**\n",
            "\n",
            "* **Coursera:** Cursos de IA de universidades como Stanford e Johns Hopkins\n",
            "* **edX:** Cursos gratuitos e pagos de IA de instituições como MIT e Harvard\n",
            "* **Udemy:** Cursos abrangentes de IA para iniciantes e avançados\n",
            "* **Google AI Education:** Recursos de aprendizado gratuitos e tutoriais sobre IA\n",
            "* **IBM Developer:** Tutoriais, artigos e ferramentas para desenvolvedores de IA\n",
            "\n",
            "**Livros:**\n",
            "\n",
            "* **Inteligência Artificial: Uma Abordagem Moderna (4ª Edição)** por Stuart Russell e Peter Norvig\n",
            "* **Aprendizado de Máquina (4ª Edição)** por Tom Mitchell\n",
            "* **Aprendizado Profundo (2ª Edição)** por Ian Goodfellow, Yoshua Bengio e Aaron Courville\n",
            "* **IA para Todos** por Andrew Ng\n",
            "* **Introdução à Inteligência Artificial** por Philip Stone e Padraig Cunningham\n",
            "\n",
            "**Comunidades e Fóruns:**\n",
            "\n",
            "* **Reddit r/MachineLearning:** Comunidade ativa para discussões sobre aprendizado de máquina e IA\n",
            "* **Stack Overflow:** Plataforma de perguntas e respostas para desenvolvedores de IA\n",
            "* **Kaggle:** Comunidade de ciência de dados e aprendizado de máquina com desafios e competições\n",
            "* **Meetup:** Grupos locais para entusiastas de IA e profissionais\n",
            "\n",
            "**Projetos Práticos:**\n",
            "\n",
            "* **TensorFlow Playground:** Ambiente interativo para explorar conceitos de aprendizado de máquina\n",
            "* **Keras API:** Biblioteca Python de alto nível para construir e treinar modelos de aprendizado profundo\n",
            "* **Scikit-learn:** Biblioteca Python para aprendizado de máquina e mineração de dados\n",
            "* **Participe de competições de aprendizado de máquina:** Como Kaggle e DrivenData\n",
            "\n",
            "**Eventos e Conferências:**\n",
            "\n",
            "* **Conferência Internacional sobre Aprendizado de Máquina (ICML)**\n",
            "* **Conferência sobre Visão Computacional e Reconhecimento de Padrões (CVPR)**\n",
            "* **Conferência Internacional sobre Inteligência Artificial (IJCAI)**\n",
            "* **Feiras e exposições de IA:** Como AI World e CES\n"
          ]
        }
      ]
    },
    {
      "cell_type": "code",
      "source": [
        "chat= model.start_chat(history=[])"
      ],
      "metadata": {
        "id": "k6_ILizqnL4p"
      },
      "execution_count": 36,
      "outputs": []
    },
    {
      "cell_type": "code",
      "source": [
        "promp = input(\"Esperando o promp:\"),\n",
        "\n",
        "while promp != \"fim\":\n",
        "  response = chat.send_message(promp)\n",
        "  print(\"Resposta\" ,response.text, \"\\n\")\n",
        "  promp = input(\"esperando o promp:\"),"
      ],
      "metadata": {
        "colab": {
          "base_uri": "https://localhost:8080/",
          "height": 108
        },
        "id": "6dmYldIQnm2l",
        "outputId": "bf1f6acd-109e-4553-f7b3-433fa1dae877"
      },
      "execution_count": null,
      "outputs": [
        {
          "output_type": "stream",
          "name": "stdout",
          "text": [
            "Esperando o promp:oi em russo\n",
            "Resposta Привет (Zdravstvuyte) \n",
            "\n"
          ]
        }
      ]
    },
    {
      "cell_type": "code",
      "source": [],
      "metadata": {
        "id": "mNCciuJ1oUDg"
      },
      "execution_count": null,
      "outputs": []
    },
    {
      "cell_type": "code",
      "source": [
        "import pathlib\n",
        "import textwrap\n",
        "\n",
        "import google.generativeai as genai\n",
        "\n",
        "from IPython.display import display\n",
        "from IPython.display import Markdown\n",
        "\n",
        "\n",
        "def to_markdown(text):\n",
        "  text = text.replace('•', '  *')\n",
        "  return Markdown(textwrap.indent(text, '> ', predicate=lambda _: True))\n"
      ],
      "metadata": {
        "id": "KV04gRacro-I"
      },
      "execution_count": null,
      "outputs": []
    }
  ]
}